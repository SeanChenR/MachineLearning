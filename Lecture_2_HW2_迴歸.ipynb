{
 "cells": [
  {
   "cell_type": "code",
   "execution_count": 1,
   "id": "backed-senior",
   "metadata": {},
   "outputs": [],
   "source": [
    "import numpy as np\n",
    "import pandas as pd\n",
    "\n",
    "from sklearn.preprocessing import StandardScaler\n",
    "from sklearn.preprocessing import PolynomialFeatures\n",
    "from sklearn.linear_model import LinearRegression\n",
    "import sklearn.metrics as sm\n",
    "\n",
    "import matplotlib.pyplot as plt"
   ]
  },
  {
   "cell_type": "code",
   "execution_count": 6,
   "id": "postal-justice",
   "metadata": {},
   "outputs": [
    {
     "data": {
      "text/html": [
       "<div>\n",
       "<style scoped>\n",
       "    .dataframe tbody tr th:only-of-type {\n",
       "        vertical-align: middle;\n",
       "    }\n",
       "\n",
       "    .dataframe tbody tr th {\n",
       "        vertical-align: top;\n",
       "    }\n",
       "\n",
       "    .dataframe thead th {\n",
       "        text-align: right;\n",
       "    }\n",
       "</style>\n",
       "<table border=\"1\" class=\"dataframe\">\n",
       "  <thead>\n",
       "    <tr style=\"text-align: right;\">\n",
       "      <th></th>\n",
       "      <th>X</th>\n",
       "      <th>y</th>\n",
       "    </tr>\n",
       "  </thead>\n",
       "  <tbody>\n",
       "    <tr>\n",
       "      <th>0</th>\n",
       "      <td>235</td>\n",
       "      <td>591</td>\n",
       "    </tr>\n",
       "    <tr>\n",
       "      <th>1</th>\n",
       "      <td>216</td>\n",
       "      <td>539</td>\n",
       "    </tr>\n",
       "    <tr>\n",
       "      <th>2</th>\n",
       "      <td>148</td>\n",
       "      <td>413</td>\n",
       "    </tr>\n",
       "    <tr>\n",
       "      <th>3</th>\n",
       "      <td>35</td>\n",
       "      <td>310</td>\n",
       "    </tr>\n",
       "    <tr>\n",
       "      <th>4</th>\n",
       "      <td>85</td>\n",
       "      <td>308</td>\n",
       "    </tr>\n",
       "    <tr>\n",
       "      <th>5</th>\n",
       "      <td>204</td>\n",
       "      <td>532</td>\n",
       "    </tr>\n",
       "    <tr>\n",
       "      <th>6</th>\n",
       "      <td>49</td>\n",
       "      <td>325</td>\n",
       "    </tr>\n",
       "    <tr>\n",
       "      <th>7</th>\n",
       "      <td>25</td>\n",
       "      <td>332</td>\n",
       "    </tr>\n",
       "    <tr>\n",
       "      <th>8</th>\n",
       "      <td>173</td>\n",
       "      <td>498</td>\n",
       "    </tr>\n",
       "    <tr>\n",
       "      <th>9</th>\n",
       "      <td>191</td>\n",
       "      <td>498</td>\n",
       "    </tr>\n",
       "    <tr>\n",
       "      <th>10</th>\n",
       "      <td>134</td>\n",
       "      <td>392</td>\n",
       "    </tr>\n",
       "    <tr>\n",
       "      <th>11</th>\n",
       "      <td>99</td>\n",
       "      <td>334</td>\n",
       "    </tr>\n",
       "    <tr>\n",
       "      <th>12</th>\n",
       "      <td>117</td>\n",
       "      <td>385</td>\n",
       "    </tr>\n",
       "    <tr>\n",
       "      <th>13</th>\n",
       "      <td>112</td>\n",
       "      <td>387</td>\n",
       "    </tr>\n",
       "    <tr>\n",
       "      <th>14</th>\n",
       "      <td>162</td>\n",
       "      <td>425</td>\n",
       "    </tr>\n",
       "    <tr>\n",
       "      <th>15</th>\n",
       "      <td>272</td>\n",
       "      <td>659</td>\n",
       "    </tr>\n",
       "    <tr>\n",
       "      <th>16</th>\n",
       "      <td>159</td>\n",
       "      <td>400</td>\n",
       "    </tr>\n",
       "    <tr>\n",
       "      <th>17</th>\n",
       "      <td>159</td>\n",
       "      <td>427</td>\n",
       "    </tr>\n",
       "    <tr>\n",
       "      <th>18</th>\n",
       "      <td>59</td>\n",
       "      <td>295</td>\n",
       "    </tr>\n",
       "    <tr>\n",
       "      <th>19</th>\n",
       "      <td>198</td>\n",
       "      <td>522</td>\n",
       "    </tr>\n",
       "  </tbody>\n",
       "</table>\n",
       "</div>"
      ],
      "text/plain": [
       "      X    y\n",
       "0   235  591\n",
       "1   216  539\n",
       "2   148  413\n",
       "3    35  310\n",
       "4    85  308\n",
       "5   204  532\n",
       "6    49  325\n",
       "7    25  332\n",
       "8   173  498\n",
       "9   191  498\n",
       "10  134  392\n",
       "11   99  334\n",
       "12  117  385\n",
       "13  112  387\n",
       "14  162  425\n",
       "15  272  659\n",
       "16  159  400\n",
       "17  159  427\n",
       "18   59  295\n",
       "19  198  522"
      ]
     },
     "execution_count": 6,
     "metadata": {},
     "output_type": "execute_result"
    }
   ],
   "source": [
    "df = pd.read_csv('regression.csv')\n",
    "df"
   ]
  },
  {
   "cell_type": "code",
   "execution_count": 3,
   "id": "explicit-longitude",
   "metadata": {},
   "outputs": [],
   "source": [
    "X = df['X'].values.reshape(-1, 1)\n",
    "y = df['y'].values"
   ]
  },
  {
   "cell_type": "code",
   "execution_count": 5,
   "id": "reasonable-certification",
   "metadata": {},
   "outputs": [],
   "source": [
    "sc = StandardScaler()\n",
    "X_std = sc.fit_transform(X)"
   ]
  },
  {
   "cell_type": "code",
   "execution_count": 6,
   "id": "dependent-serial",
   "metadata": {},
   "outputs": [
    {
     "data": {
      "text/plain": [
       "LinearRegression()"
      ]
     },
     "execution_count": 6,
     "metadata": {},
     "output_type": "execute_result"
    }
   ],
   "source": [
    "lr = LinearRegression()\n",
    "lr.fit(X_std, y)"
   ]
  },
  {
   "cell_type": "code",
   "execution_count": 11,
   "id": "olive-south",
   "metadata": {},
   "outputs": [
    {
     "name": "stdout",
     "output_type": "stream",
     "text": [
      "theta1 : 97.133\n",
      "theta2 : 22.623\n",
      "Intercept : 405.977\n"
     ]
    }
   ],
   "source": [
    "pr = LinearRegression()\n",
    "quadratic = PolynomialFeatures(degree=2)\n",
    "X_quad = quadratic.fit_transform(X_std)\n",
    "pr.fit(X_quad, y)\n",
    "y_quad_pred = pr.predict(X_quad)\n",
    "print(\"theta1 : %.3f\" %pr.coef_[1])\n",
    "print(\"theta2 : %.3f\" %pr.coef_[2])\n",
    "print(\"Intercept : %.3f\" %pr.intercept_)"
   ]
  },
  {
   "cell_type": "code",
   "execution_count": 23,
   "id": "interesting-mailing",
   "metadata": {},
   "outputs": [
    {
     "name": "stdout",
     "output_type": "stream",
     "text": [
      "Intercept : 402.867\n",
      "MSE : 377.582\n",
      "R^2 : 0.963\n"
     ]
    }
   ],
   "source": [
    "pr2 = LinearRegression()\n",
    "cubic = PolynomialFeatures(degree=3)\n",
    "X_cub = cubic.fit_transform(X_std)\n",
    "pr2.fit(X_cub, y)\n",
    "y_cubic_pred = pr2.predict(X_cub)\n",
    "print(\"Intercept : %.3f\" %pr2.intercept_)\n",
    "pr2.coef_\n",
    "\n",
    "print(\"MSE : %.3f\" %sm.mean_squared_error(y , y_quad_pred))\n",
    "print(\"R^2 : %.3f\" %sm.r2_score(y , y_quad_pred))"
   ]
  },
  {
   "cell_type": "code",
   "execution_count": 12,
   "id": "9e3422e0",
   "metadata": {},
   "outputs": [
    {
     "data": {
      "image/png": "[encoded data removed]",
      "text/plain": [
       "<Figure size 432x288 with 1 Axes>"
      ]
     },
     "metadata": {
      "needs_background": "light"
     },
     "output_type": "display_data"
    }
   ],
   "source": [
    "x = np.linspace(-3, 3, 100)\n",
    "\n",
    "plt.scatter(X_std, y)\n",
    "plt.plot(x, lr.coef_[0]*x+lr.intercept_, color='orange')\n",
    "#plt.plot(x, pr.coef_[2]*x**2+pr.coef_[1]*x+pr.intercept_, color='green')\n",
    "#plt.plot(x, pr2.coef_[3]*x**3+pr2.coef_[2]*x**2+pr.coef_[1]*x+pr2.intercept_, color='red')\n",
    "\n",
    "plt.xlabel('x')\n",
    "plt.ylabel('y')\n",
    "plt.show()"
   ]
  },
  {
   "cell_type": "code",
   "execution_count": 19,
   "id": "previous-duncan",
   "metadata": {},
   "outputs": [
    {
     "data": {
      "image/png": "[encoded data removed]",
      "text/plain": [
       "<Figure size 432x288 with 1 Axes>"
      ]
     },
     "metadata": {
      "needs_background": "light"
     },
     "output_type": "display_data"
    }
   ],
   "source": [
    "x = np.linspace(-3, 3, 100)\n",
    "\n",
    "plt.scatter(X_std, y)\n",
    "#plt.plot(x, lr.coef_[0]*x+lr.intercept_, color='orange')\n",
    "plt.plot(x, pr.coef_[2]*x**2+pr.coef_[1]*x+pr.intercept_, color='green')\n",
    "#plt.plot(x, pr2.coef_[3]*x**3+pr2.coef_[2]*x**2+pr.coef_[1]*x+pr2.intercept_, color='red')\n",
    "\n",
    "plt.xlabel('x')\n",
    "plt.ylabel('y')\n",
    "plt.show()"
   ]
  },
  {
   "cell_type": "code",
   "execution_count": 10,
   "id": "material-genetics",
   "metadata": {},
   "outputs": [
    {
     "data": {
      "image/png": "[encoded data removed]",
      "text/plain": [
       "<Figure size 432x288 with 1 Axes>"
      ]
     },
     "metadata": {
      "needs_background": "light"
     },
     "output_type": "display_data"
    }
   ],
   "source": [
    "x = np.linspace(-3, 3, 100)\n",
    "\n",
    "plt.scatter(X_std, y)\n",
    "#plt.plot(x, lr.coef_[0]*x+lr.intercept_, color='orange')\n",
    "#plt.plot(x, pr.coef_[2]*x**2+pr.coef_[1]*x+pr.intercept_, color='green')\n",
    "plt.plot(x, pr2.coef_[3]*x**3+pr2.coef_[2]*x**2+pr.coef_[1]*x+pr2.intercept_, color='red')\n",
    "\n",
    "plt.xlabel('x')\n",
    "plt.ylabel('y')\n",
    "plt.show()"
   ]
  },
  {
   "cell_type": "code",
   "execution_count": 21,
   "id": "e951c0ae",
   "metadata": {},
   "outputs": [
    {
     "data": {
      "image/png": "[encoded data removed]",
      "text/plain": [
       "<Figure size 432x288 with 1 Axes>"
      ]
     },
     "metadata": {
      "needs_background": "light"
     },
     "output_type": "display_data"
    }
   ],
   "source": [
    "x = np.linspace(-3, 3, 100)\n",
    "\n",
    "plt.scatter(X_std, y)\n",
    "plt.plot(x, lr.coef_[0]*x+lr.intercept_, color='orange')\n",
    "plt.plot(x, pr.coef_[2]*x**2+pr.coef_[1]*x+pr.intercept_, color='green')\n",
    "plt.plot(x, pr2.coef_[3]*x**3+pr2.coef_[2]*x**2+pr.coef_[1]*x+pr2.intercept_, color='red')\n",
    "\n",
    "plt.xlabel('x')\n",
    "plt.ylabel('y')\n",
    "plt.show()"
   ]
  }
 ],
 "metadata": {
  "kernelspec": {
   "display_name": "Python 3",
   "language": "python",
   "name": "python3"
  },
  "language_info": {
   "codemirror_mode": {
    "name": "ipython",
    "version": 3
   },
   "file_extension": ".py",
   "mimetype": "text/x-python",
   "name": "python",
   "nbconvert_exporter": "python",
   "pygments_lexer": "ipython3",
   "version": "3.8.8"
  }
 },
 "nbformat": 4,
 "nbformat_minor": 5
}
